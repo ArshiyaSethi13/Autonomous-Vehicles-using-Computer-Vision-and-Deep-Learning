{
  "cells": [
    {
      "cell_type": "code",
      "execution_count": null,
      "metadata": {
        "colab": {
          "base_uri": "https://localhost:8080/"
        },
        "id": "R_y7Cr1tEcvT",
        "outputId": "7ea6a7c7-7144-48c1-f3e4-3a8e3904faa8"
      },
      "outputs": [],
      "source": [
        "\n",
        "!git clone https://bitbucket.org/jadslim/german-traffic-signs"
      ]
    },
    {
      "cell_type": "code",
      "execution_count": null,
      "metadata": {
        "colab": {
          "base_uri": "https://localhost:8080/"
        },
        "id": "AYO-KcL0E79V",
        "outputId": "0b301a15-3f7e-430f-b562-c9afd2c0170e"
      },
      "outputs": [],
      "source": [
        "!ls german-traffic-sign"
      ]
    },
    {
      "cell_type": "code",
      "execution_count": null,
      "metadata": {
        "id": "a9ojGbBaCe7J"
      },
      "outputs": [],
      "source": [
        "import numpy as np\n",
        "import matplotlib.pyplot as plt\n",
        "import keras\n",
        "from keras.models import Sequential\n",
        "from keras.layers import Dense\n",
        "from keras.optimizers import Adam\n",
        "from keras.utils import to_categorical\n",
        "from keras.layers import Dropout, Flatten\n",
        "from keras.layers import Conv2D, MaxPooling2D\n",
        "import random\n",
        "import pickle\n",
        "import pandas as pd\n",
        "import cv2\n",
        "from keras.callbacks import LearningRateScheduler, ModelCheckpoint\n",
        "\n",
        "%matplotlib inline"
      ]
    },
    {
      "cell_type": "code",
      "execution_count": null,
      "metadata": {
        "id": "H975u_w6DuR5"
      },
      "outputs": [],
      "source": [
        "\n",
        "np.random.seed(0)"
      ]
    },
    {
      "cell_type": "code",
      "execution_count": null,
      "metadata": {
        "id": "ffk7twHmDuIw"
      },
      "outputs": [],
      "source": [
        "# TODO: Implement load the data here.\n",
        "with open('german-traffic-signs/train.p', 'rb') as f:\n",
        "    train_data = pickle.load(f)\n",
        "with open('german-traffic-signs/valid.p', 'rb') as f:\n",
        "    val_data = pickle.load(f)\n",
        "# TODO: Load test data\n",
        "with open('german-traffic-signs/test.p', 'rb') as f:\n",
        "    test_data = pickle.load(f)"
      ]
    },
    {
      "cell_type": "code",
      "execution_count": null,
      "metadata": {
        "id": "KEaUe-mxDuCU"
      },
      "outputs": [],
      "source": [
        "# Split out features and labels\n",
        "X_train, y_train = train_data['features'], train_data['labels']\n",
        "X_val, y_val = val_data['features'], val_data['labels']\n",
        "X_test, y_test = test_data['features'], test_data['labels']"
      ]
    },
    {
      "cell_type": "code",
      "execution_count": null,
      "metadata": {
        "colab": {
          "base_uri": "https://localhost:8080/"
        },
        "id": "hQ-jzjFtDt-0",
        "outputId": "3bdb1b4d-50b4-4c3a-85dd-0111171fa132"
      },
      "outputs": [],
      "source": [
        "# 4 dimensional\n",
        "print(X_train.shape)\n",
        "print(X_test.shape)\n",
        "print(X_val.shape)"
      ]
    },
    {
      "cell_type": "code",
      "execution_count": null,
      "metadata": {
        "id": "d5vwXtcwDt6k"
      },
      "outputs": [],
      "source": [
        "assert(X_train.shape[0] == y_train.shape[0]), \"The number of images is not equal to the number of labels.\"\n",
        "assert(X_train.shape[1:] == (32,32,3)), \"The dimensions of the images are not 32 x 32 x 3.\"\n",
        "assert(X_val.shape[0] == y_val.shape[0]), \"The number of images is not equal to the number of labels.\"\n",
        "assert(X_val.shape[1:] == (32,32,3)), \"The dimensions of the images are not 32 x 32 x 3.\"\n",
        "assert(X_test.shape[0] == y_test.shape[0]), \"The number of images is not equal to the number of labels.\"\n",
        "assert(X_test.shape[1:] == (32,32,3)), \"The dimensions of the images are not 32 x 32 x 3.\""
      ]
    },
    {
      "cell_type": "code",
      "execution_count": null,
      "metadata": {
        "colab": {
          "background_save": true
        },
        "id": "Z5qTDtArKJoz",
        "outputId": "8a565ed6-ba4d-4c51-fc49-8d36b516fbb2"
      },
      "outputs": [],
      "source": [
        "data = pd.read_csv('german-traffic-signs/signnames.csv')\n",
        "\n",
        "num_of_samples=[]\n",
        "\n",
        "cols = 5\n",
        "num_classes = 43\n",
        "\n",
        "fig, axs = plt.subplots(nrows=num_classes, ncols=cols, figsize=(5,50))\n",
        "fig.tight_layout()\n",
        "\n",
        "for i in range(cols):\n",
        "    for j, row in data.iterrows():\n",
        "        x_selected = X_train[y_train == j]\n",
        "        axs[j][i].imshow(x_selected[random.randint(0,(len(x_selected) - 1)), :, :], cmap=plt.get_cmap('gray'))\n",
        "        axs[j][i].axis(\"off\")\n",
        "        if i == 2:\n",
        "          axs[j][i].set_title(str(j) + \" - \" + row[\"SignName\"])\n",
        "          num_of_samples.append(len(x_selected))"
      ]
    },
    {
      "cell_type": "code",
      "execution_count": null,
      "metadata": {
        "colab": {
          "background_save": true
        },
        "id": "M9N0kEYYKJke",
        "outputId": "47e0615e-2480-4c0e-cc27-8c41a113db05"
      },
      "outputs": [],
      "source": [
        "print(num_of_samples)\n",
        "plt.figure(figsize=(12, 4))\n",
        "plt.bar(range(0, num_classes), num_of_samples)\n",
        "plt.title(\"Distribution of the train dataset\")\n",
        "plt.xlabel(\"Class number\")\n",
        "plt.ylabel(\"Number of images\")\n",
        "plt.show()"
      ]
    },
    {
      "cell_type": "code",
      "execution_count": null,
      "metadata": {
        "colab": {
          "background_save": true
        },
        "id": "6eBQf7N-KJhJ",
        "outputId": "10f7c17f-f075-491c-f542-e5f7bbb9cccf"
      },
      "outputs": [],
      "source": [
        "import cv2\n",
        "\n",
        "plt.imshow(X_train[1000])\n",
        "plt.axis(\"off\")\n",
        "print(X_train[1000].shape)\n",
        "print(y_train[1000])\n"
      ]
    },
    {
      "cell_type": "code",
      "execution_count": null,
      "metadata": {
        "colab": {
          "background_save": true
        },
        "id": "pMyFC8PhKJcx",
        "outputId": "6dc6da9f-4878-40d1-f223-d94eb5d7d312"
      },
      "outputs": [],
      "source": [
        "def grayscale(img):\n",
        "    img = cv2.cvtColor(img, cv2.COLOR_BGR2GRAY)\n",
        "    return img\n",
        "img = grayscale(X_train[1000])\n",
        "plt.imshow(img)\n",
        "plt.axis(\"off\")\n",
        "print(img.shape)"
      ]
    },
    {
      "cell_type": "code",
      "execution_count": null,
      "metadata": {
        "colab": {
          "background_save": true
        },
        "id": "QLjGMQeVN-ic",
        "outputId": "b54b4a5b-3449-4719-dcd4-e342afe4d5ad"
      },
      "outputs": [],
      "source": [
        "def equalize(img):\n",
        "    img = cv2.equalizeHist(img)\n",
        "    return img\n",
        "img = equalize(img)\n",
        "plt.imshow(img)\n",
        "plt.axis(\"off\")\n",
        "print(img.shape)"
      ]
    },
    {
      "cell_type": "code",
      "execution_count": null,
      "metadata": {
        "colab": {
          "background_save": true
        },
        "id": "BhPKWfHJN-fq"
      },
      "outputs": [],
      "source": [
        "def preprocess(img):\n",
        "    img = grayscale(img)\n",
        "    img = equalize(img)\n",
        "    img = img/255\n",
        "    return img"
      ]
    },
    {
      "cell_type": "code",
      "execution_count": null,
      "metadata": {
        "colab": {
          "background_save": true
        },
        "id": "ON6kAnF0N-co"
      },
      "outputs": [],
      "source": [
        "X_train = np.array(list(map(preprocess, X_train)))\n",
        "X_test = np.array(list(map(preprocess, X_test)))\n",
        "X_val = np.array(list(map(preprocess, X_val)))\n",
        "\n"
      ]
    },
    {
      "cell_type": "code",
      "execution_count": null,
      "metadata": {
        "colab": {
          "background_save": true
        },
        "id": "TlpQT2x4N-Y-",
        "outputId": "cfcf79d7-8e3e-40f8-c1b0-6fc332fdab97"
      },
      "outputs": [],
      "source": [
        "plt.imshow(X_train[random.randint(0, len(X_train) - 1)])\n",
        "plt.axis('off')\n",
        "print(X_train.shape)\n"
      ]
    },
    {
      "cell_type": "code",
      "execution_count": null,
      "metadata": {
        "colab": {
          "background_save": true
        },
        "id": "2GKVto1eQmkB"
      },
      "outputs": [],
      "source": [
        "X_train = X_train.reshape(34799, 32, 32, 1)\n",
        "X_test = X_test.reshape(12630, 32, 32, 1)\n",
        "X_val = X_val.reshape(4410, 32, 32, 1)"
      ]
    },
    {
      "cell_type": "code",
      "execution_count": null,
      "metadata": {
        "colab": {
          "background_save": true
        },
        "id": "kYTTJUgNQqR6"
      },
      "outputs": [],
      "source": [
        "\n",
        "from keras.preprocessing.image import ImageDataGenerator\n",
        "\n",
        "datagen = ImageDataGenerator(width_shift_range=0.1,\n",
        "                            height_shift_range=0.1,\n",
        "                            zoom_range=0.2,\n",
        "                            shear_range=0.1,\n",
        "                            rotation_range=10.)\n",
        "\n",
        "datagen.fit(X_train)"
      ]
    },
    {
      "cell_type": "code",
      "execution_count": null,
      "metadata": {
        "colab": {
          "background_save": true
        },
        "id": "W-77-nmeTVkg",
        "outputId": "30550ab5-6819-43bd-b40c-84e9e6b04657"
      },
      "outputs": [],
      "source": [
        "# for X_batch, y_batch in\n",
        "\n",
        "batches = datagen.flow(X_train, y_train, batch_size = 15)\n",
        "X_batch, y_batch = next(batches)\n",
        "\n",
        "fig, axs = plt.subplots(1, 15, figsize=(20, 5))\n",
        "fig.tight_layout()\n",
        "\n",
        "for i in range(15):\n",
        "    axs[i].imshow(X_batch[i].reshape(32, 32))\n",
        "    axs[i].axis(\"off\")\n",
        "\n",
        "print(X_batch.shape)"
      ]
    },
    {
      "cell_type": "code",
      "execution_count": null,
      "metadata": {
        "colab": {
          "background_save": true
        },
        "id": "GLt8cO3yTddz"
      },
      "outputs": [],
      "source": [
        "y_train = to_categorical(y_train, 43)\n",
        "y_test = to_categorical(y_test, 43)\n",
        "y_val = to_categorical(y_val, 43)"
      ]
    },
    {
      "cell_type": "code",
      "execution_count": null,
      "metadata": {
        "colab": {
          "background_save": true
        },
        "id": "N8V-tHc-TlFm"
      },
      "outputs": [],
      "source": [
        "# create model\n",
        "\n",
        "def modified_model():\n",
        "  model = Sequential()\n",
        "  model.add(Conv2D(60, (5, 5), input_shape=(32, 32, 1), activation='relu'))\n",
        "  model.add(Conv2D(60, (5, 5), activation='relu'))\n",
        "  model.add(MaxPooling2D(pool_size=(2, 2)))\n",
        "\n",
        "  model.add(Conv2D(30, (3, 3), activation='relu'))\n",
        "  model.add(Conv2D(30, (3, 3), activation='relu'))\n",
        "  model.add(MaxPooling2D(pool_size=(2, 2)))\n",
        "\n",
        "  model.add(Flatten())\n",
        "  model.add(Dense(500, activation='relu'))\n",
        "  model.add(Dropout(0.5))\n",
        "  model.add(Dense(43, activation='softmax'))\n",
        "\n",
        "  model.compile(Adam(lr = 0.001), loss='categorical_crossentropy', metrics=['accuracy'])\n",
        "  return model\n"
      ]
    },
    {
      "cell_type": "code",
      "execution_count": null,
      "metadata": {
        "colab": {
          "base_uri": "https://localhost:8080/"
        },
        "id": "HYP31126Tk94",
        "outputId": "04768766-3623-401e-c999-7810ef465e4e"
      },
      "outputs": [],
      "source": [
        "model = modified_model()\n",
        "print(model.summary())\n",
        "\n",
        "history = model.fit_generator(datagen.flow(X_train, y_train, batch_size=50),\n",
        "                            steps_per_epoch=500,\n",
        "                            epochs=20,\n",
        "                            validation_data=(X_val, y_val), shuffle = 1)"
      ]
    },
    {
      "cell_type": "code",
      "execution_count": null,
      "metadata": {
        "colab": {
          "base_uri": "https://localhost:8080/",
          "height": 489
        },
        "id": "-kFJJfIerl2l",
        "outputId": "7cb1a3e8-00a4-4072-b0fa-5a6b27d4cede"
      },
      "outputs": [],
      "source": [
        "plt.plot(history.history['loss'])\n",
        "plt.plot(history.history['val_loss'])\n",
        "plt.title('Loss')\n",
        "plt.xlabel('epoch')\n",
        "\n"
      ]
    },
    {
      "cell_type": "code",
      "execution_count": null,
      "metadata": {
        "colab": {
          "base_uri": "https://localhost:8080/",
          "height": 472
        },
        "id": "495BPObmr1hB",
        "outputId": "0083d4b6-0c48-4206-865e-90441d7642ee"
      },
      "outputs": [],
      "source": [
        "plt.plot(history.history['accuracy'])\n",
        "plt.plot(history.history['val_accuracy'])\n",
        "plt.legend(['training','test'])\n",
        "plt.title('Accuracy')\n",
        "plt.xlabel('epoch')\n",
        "\n",
        "# TODO: Evaluate model on test data\n",
        "score = model.evaluate(X_test, y_test, verbose=0)"
      ]
    },
    {
      "cell_type": "code",
      "execution_count": null,
      "metadata": {
        "colab": {
          "base_uri": "https://localhost:8080/"
        },
        "id": "FrzkE0fEr9K8",
        "outputId": "73105604-c5b8-4bb0-ca2a-ea1f348b4962"
      },
      "outputs": [],
      "source": [
        "print('Test score:', score[0])\n",
        "print('Test accuracy:', score[1])"
      ]
    },
    {
      "cell_type": "code",
      "execution_count": null,
      "metadata": {
        "colab": {
          "base_uri": "https://localhost:8080/",
          "height": 482
        },
        "id": "FYi5t45jTk3D",
        "outputId": "b51f6901-436e-4e8d-baf1-f6a8ad30df9a"
      },
      "outputs": [],
      "source": [
        "#fetch image\n",
        "\n",
        "import requests\n",
        "from PIL import Image\n",
        "url = 'https://c8.alamy.com/comp/J2MRAJ/german-road-sign-bicycles-crossing-J2MRAJ.jpg'\n",
        "r = requests.get(url, stream=True)\n",
        "img = Image.open(r.raw)\n",
        "plt.imshow(img, cmap=plt.get_cmap('gray'))\n",
        "\n",
        "\n",
        "#Preprocess image\n",
        "\n",
        "img = np.asarray(img)\n",
        "img = cv2.resize(img, (32, 32))\n",
        "img = preprocess(img)\n",
        "plt.imshow(img, cmap = plt.get_cmap('gray'))\n",
        "print(img.shape)\n",
        "\n",
        "#Reshape reshape\n",
        "\n",
        "img = img.reshape(1, 32, 32, 1)\n",
        "\n",
        "#Test image\n",
        "print(\"predicted sign: \"+ str(np.argmax(model.predict(img), axis=-1)))"
      ]
    },
    {
      "cell_type": "code",
      "execution_count": null,
      "metadata": {
        "id": "IJ5s1lX8Tk0M"
      },
      "outputs": [],
      "source": []
    },
    {
      "cell_type": "code",
      "execution_count": null,
      "metadata": {
        "id": "L1Z6IFNyTkwO"
      },
      "outputs": [],
      "source": []
    }
  ],
  "metadata": {
    "accelerator": "GPU",
    "colab": {
      "provenance": []
    },
    "kernelspec": {
      "display_name": "Python 3",
      "name": "python3"
    },
    "language_info": {
      "name": "python"
    }
  },
  "nbformat": 4,
  "nbformat_minor": 0
}
